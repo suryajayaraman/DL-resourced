{
 "cells": [
  {
   "cell_type": "markdown",
   "id": "228a213c",
   "metadata": {},
   "source": [
    "## Resnet Architecture understanding"
   ]
  },
  {
   "cell_type": "markdown",
   "id": "0aeabc52",
   "metadata": {},
   "source": [
    "## References\n",
    "\n",
    "1. [Resnet function classes](https://d2l.ai/chapter_convolutional-modern/resnet.html)\n",
    "2. [visio blog post](https://viso.ai/deep-learning/resnet-residual-neural-network/)\n",
    "3. [cv tricks blog post](https://cv-tricks.com/keras/understand-implement-resnets/)\n",
    "4. [Great learning blog post](https://www.mygreatlearning.com/blog/resnet/)\n",
    "5. [Understanding and visualizing resnsets](https://towardsdatascience.com/understanding-and-visualizing-resnets-442284831be8)"
   ]
  }
 ],
 "metadata": {
  "kernelspec": {
   "display_name": "conda(dl)",
   "language": "python",
   "name": "dl"
  },
  "language_info": {
   "codemirror_mode": {
    "name": "ipython",
    "version": 3
   },
   "file_extension": ".py",
   "mimetype": "text/x-python",
   "name": "python",
   "nbconvert_exporter": "python",
   "pygments_lexer": "ipython3",
   "version": "3.9.7"
  }
 },
 "nbformat": 4,
 "nbformat_minor": 5
}
